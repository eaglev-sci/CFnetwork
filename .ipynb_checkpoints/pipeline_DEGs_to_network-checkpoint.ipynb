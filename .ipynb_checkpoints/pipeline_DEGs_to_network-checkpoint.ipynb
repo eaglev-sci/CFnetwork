{
 "cells": [
  {
   "cell_type": "markdown",
   "id": "131947ce",
   "metadata": {},
   "source": [
    "THIS IS AN EXAMPLE ABOUT HOW TO DOWNLOAD A DATABASE, CREATE A PICKLE FILE AND THEN LOAD IT INTO A NETWORK"
   ]
  },
  {
   "cell_type": "code",
   "execution_count": 1,
   "id": "8704a7de",
   "metadata": {},
   "outputs": [],
   "source": [
    "#first import pypath and the omnipath module\n",
    "\n",
    "from pypath.core import network\n",
    "from pypath.resources import network as netres\n",
    "from pypath import omnipath"
   ]
  },
  {
   "cell_type": "code",
   "execution_count": 2,
   "id": "1725c300",
   "metadata": {},
   "outputs": [
    {
     "ename": "ModuleNotFoundError",
     "evalue": "No module named 'pypath_wrapper'",
     "output_type": "error",
     "traceback": [
      "\u001b[0;31m---------------------------------------------------------------------------\u001b[0m",
      "\u001b[0;31mModuleNotFoundError\u001b[0m                       Traceback (most recent call last)",
      "Cell \u001b[0;32mIn[2], line 2\u001b[0m\n\u001b[1;32m      1\u001b[0m \u001b[38;5;66;03m#then import the wrapper\u001b[39;00m\n\u001b[0;32m----> 2\u001b[0m \u001b[38;5;28;01mfrom\u001b[39;00m \u001b[38;5;21;01mpypath_wrapper\u001b[39;00m \u001b[38;5;28;01mimport\u001b[39;00m Wrap_net\n",
      "\u001b[0;31mModuleNotFoundError\u001b[0m: No module named 'pypath_wrapper'"
     ]
    }
   ],
   "source": [
    "#then import the wrapper\n",
    "from pypath_wrapper import Wrap_net"
   ]
  },
  {
   "cell_type": "code",
   "execution_count": null,
   "id": "d441f26d",
   "metadata": {},
   "outputs": [],
   "source": [
    "w = Wrap_net()\n",
    "#here we create the wrap_net object, which is the same as Network() but with a couple of functions more"
   ]
  },
  {
   "cell_type": "code",
   "execution_count": null,
   "id": "12e8d1e4",
   "metadata": {},
   "outputs": [],
   "source": [
    "#here we load the database to populate the wrap_net object. It can be done in two ways:\n",
    "\n",
    "#1) using the \"netres\" object\n",
    "netres.omnipath\n",
    "\n",
    "#in the output of the cells you can visualize the database that will populate your wrapnet object"
   ]
  },
  {
   "cell_type": "code",
   "execution_count": null,
   "id": "9db27d43",
   "metadata": {},
   "outputs": [],
   "source": [
    "#to load the previous databses just do:\n",
    "\n",
    "w.load(netres.pathway)\n",
    "\n",
    "#the load methods, loads the databases contained in the netres object"
   ]
  },
  {
   "cell_type": "code",
   "execution_count": null,
   "id": "5700604c",
   "metadata": {},
   "outputs": [],
   "source": [
    "#2) an alternative is using the omnipath object\n",
    "\n",
    "#the following lines will download the chosen databases, populate the cache folder and create a pickle file\n",
    "\n",
    "#the first time this will take a lot of time because it will download Gb of data\n",
    "\n",
    "#after the first time, it will take just a couple of seconds\n",
    "\n",
    "omnipath.db.param['network_mod'] = 'omnipath' \n",
    "\n",
    "#use the following line if you want to specify some arguments and load just one or some databases (ex signor, kegg etc...)\n",
    "#omnipath.db.param['network_args'] = {'resources': netres.pathway['signor']} # <-- insert in the dict the pathway\n",
    "\n",
    "#get the actual files necessary to build the database\n",
    "\n",
    "m = omnipath.db.get_db('omnipath')"
   ]
  },
  {
   "cell_type": "code",
   "execution_count": null,
   "id": "ac8ee186",
   "metadata": {},
   "outputs": [],
   "source": [
    "#next time when you want to launch the session rapidly you can just use:\n",
    "\n",
    "m = omnipath.db.pickle_path('network_omnipath') #here you store the pickle file in the variable \"m\" in order to load it next"
   ]
  },
  {
   "cell_type": "code",
   "execution_count": null,
   "id": "9aeb00f8",
   "metadata": {},
   "outputs": [],
   "source": [
    "#once the pickle file is created, let's load it into the new object\n",
    "\n",
    "w = Wrap_net(m)"
   ]
  },
  {
   "cell_type": "code",
   "execution_count": null,
   "id": "30219ce2",
   "metadata": {},
   "outputs": [],
   "source": [
    "#now let's check its dimensions\n",
    "w.interactions"
   ]
  },
  {
   "cell_type": "code",
   "execution_count": null,
   "id": "b040674c",
   "metadata": {},
   "outputs": [],
   "source": [
    "netres.omnipath"
   ]
  },
  {
   "cell_type": "code",
   "execution_count": null,
   "id": "fa196e81",
   "metadata": {},
   "outputs": [],
   "source": [
    "#and let's have a look to the binteractions:\n",
    "w.interactions"
   ]
  },
  {
   "cell_type": "code",
   "execution_count": null,
   "id": "6e62a200",
   "metadata": {},
   "outputs": [],
   "source": [
    "w_e = w.entity('JAG2')"
   ]
  },
  {
   "cell_type": "code",
   "execution_count": null,
   "id": "ca9a8707",
   "metadata": {},
   "outputs": [],
   "source": [
    "w_e."
   ]
  },
  {
   "cell_type": "markdown",
   "id": "9d5e3ecc",
   "metadata": {},
   "source": [
    "SECOND PART: FROM A LIST OF GENES TO A BNET FILE"
   ]
  },
  {
   "cell_type": "code",
   "execution_count": null,
   "id": "7bd763be",
   "metadata": {},
   "outputs": [],
   "source": [
    "#let's create a list of genes\n",
    "import pandas as pd"
   ]
  },
  {
   "cell_type": "code",
   "execution_count": null,
   "id": "03671fd2",
   "metadata": {},
   "outputs": [],
   "source": [
    "DEG_2_final = pd.read_csv(\"/Users/matthieu/ownCloud/Thèse/Systems Biology/Transcriptomic studies/deg_comparison/common_deg_in_2_studies_padj_0_05_2023_07_03.txt\",\n",
    "                          header=0,\n",
    "                         sep=\"\\t\")"
   ]
  },
  {
   "cell_type": "code",
   "execution_count": null,
   "id": "08f16688",
   "metadata": {},
   "outputs": [],
   "source": [
    "DEG_2_final"
   ]
  },
  {
   "cell_type": "code",
   "execution_count": null,
   "id": "c9ef05dc",
   "metadata": {},
   "outputs": [],
   "source": [
    "# DEG_2 = pd.read_csv(\"/Users/matthieu/ownCloud/Thèse/Systems Biology/Transcriptomic studies/deg_comparison/common_deg_in_3_studies_padj_0_05_2022_07_15.txt\",\n",
    "#                  header=None)\n",
    "# DEG_2 = pd.read_csv(\"/Users/matthieu/ownCloud/Thèse/Systems Biology/Transcriptomic studies/deg_comparison/common_deg_in_2_studies_padj_0_05_2022_07_15.txt\",\n",
    "#                    header=None)\n",
    "# DEGs = list(DEG_2_final[DEG_2_final['in_three'] | DEG_2_final['opposite']==False].iloc[:,0].str.strip())\n",
    "# DEGs = list(DEG_2_final[DEG_2_final['in_three']].iloc[:,0].str.strip())\n",
    "DEGs = list(DEG_2_final.iloc[:,0].str.strip())"
   ]
  },
  {
   "cell_type": "code",
   "execution_count": null,
   "id": "792e62ca",
   "metadata": {},
   "outputs": [],
   "source": [
    "DEGs"
   ]
  },
  {
   "cell_type": "code",
   "execution_count": null,
   "id": "b94f9d9e",
   "metadata": {},
   "outputs": [],
   "source": [
    "len(DEGs)"
   ]
  },
  {
   "cell_type": "code",
   "execution_count": null,
   "id": "d4627d15",
   "metadata": {},
   "outputs": [],
   "source": [
    "DEGs_to_remove = ['HIST1H2BC', 'HIST1H2BE', 'HIST2H2BE', 'IFI44L', 'SERPINB7', 'TMEM158', 'UGT2A1']\n",
    "final_DEGs = [HGNC for HGNC in DEGs if HGNC not in DEGs_to_remove]\n",
    "# DEGs.remove(['HIST1H2BC', 'TMEM158'])"
   ]
  },
  {
   "cell_type": "code",
   "execution_count": null,
   "id": "a8e0d6c7",
   "metadata": {},
   "outputs": [],
   "source": [
    "final_DEGs"
   ]
  },
  {
   "cell_type": "code",
   "execution_count": null,
   "id": "e8783a62",
   "metadata": {
    "scrolled": true
   },
   "outputs": [],
   "source": [
    "#and now let's extract a subnetwork from our wrap_net object that contains the interactions between those genes\n",
    "\n",
    "#let's propose a max distance between each gene\n",
    "\n",
    "distance = 3\n",
    "\n",
    "new_net = w.extract_subnet(final_DEGs, distance, complete_connections=False)"
   ]
  },
  {
   "cell_type": "code",
   "execution_count": null,
   "id": "51f66fa4",
   "metadata": {},
   "outputs": [],
   "source": [
    "df = new_net.generate_df()"
   ]
  },
  {
   "cell_type": "code",
   "execution_count": null,
   "id": "2a7d000e",
   "metadata": {},
   "outputs": [],
   "source": [
    "df"
   ]
  },
  {
   "cell_type": "code",
   "execution_count": null,
   "id": "7cd64a02",
   "metadata": {},
   "outputs": [],
   "source": [
    "df['HGNC_a'] = [list(mapping.map_name(gene, 'uniprot', 'genesymbol'))[0] for gene in df['id_a']]\n",
    "df['HGNC_b'] = [list(mapping.map_name(gene, 'uniprot', 'genesymbol'))[0] for gene in df['id_b']]"
   ]
  },
  {
   "cell_type": "code",
   "execution_count": null,
   "id": "504d2790",
   "metadata": {},
   "outputs": [],
   "source": [
    "df.shape"
   ]
  },
  {
   "cell_type": "code",
   "execution_count": null,
   "id": "ed5f9eeb",
   "metadata": {},
   "outputs": [],
   "source": [
    "df.sources.value_counts()"
   ]
  },
  {
   "cell_type": "code",
   "execution_count": null,
   "id": "41328556",
   "metadata": {},
   "outputs": [],
   "source": [
    "df_not_wang = df[pd.Series(any([x!= \"Wang\" for x in list(sources)]) for sources in df.sources)]"
   ]
  },
  {
   "cell_type": "code",
   "execution_count": null,
   "id": "25da29de",
   "metadata": {},
   "outputs": [],
   "source": [
    "df_not_wang"
   ]
  },
  {
   "cell_type": "code",
   "execution_count": null,
   "id": "e434d346",
   "metadata": {},
   "outputs": [],
   "source": [
    "df_not_wang = df_not_wang.drop(['dmodel', 'sources','directed'], axis=1)\n",
    "df_not_wang"
   ]
  },
  {
   "cell_type": "code",
   "execution_count": null,
   "id": "961b02e5",
   "metadata": {},
   "outputs": [],
   "source": [
    "df_not_wang['interaction_id'] = df_not_wang[['id_a','id_b','effect']].apply(lambda row: '_'.join(row.values.astype(str)), axis=1)"
   ]
  },
  {
   "cell_type": "code",
   "execution_count": null,
   "id": "b18a2ced",
   "metadata": {},
   "outputs": [],
   "source": [
    "df_not_wang"
   ]
  },
  {
   "cell_type": "code",
   "execution_count": null,
   "id": "ac8c3a72",
   "metadata": {},
   "outputs": [],
   "source": [
    "df_not_wang.shape"
   ]
  },
  {
   "cell_type": "code",
   "execution_count": null,
   "id": "8bb25c01",
   "metadata": {},
   "outputs": [],
   "source": [
    "# drop duplicates\n",
    "df_not_wang.non_duplicates = df_not_wang.drop_duplicates()\n",
    "df_not_wang.non_duplicates.shape"
   ]
  },
  {
   "cell_type": "code",
   "execution_count": null,
   "id": "0a46cb77",
   "metadata": {},
   "outputs": [],
   "source": [
    "# remove complex\n",
    "df_not_wang.non_complex = df_not_wang.non_duplicates[[\"COMPLEX\" not in i for i in df_not_wang.non_duplicates['interaction_id']]]\n",
    "df_not_wang.non_complex.shape"
   ]
  },
  {
   "cell_type": "code",
   "execution_count": null,
   "id": "81837bac",
   "metadata": {},
   "outputs": [],
   "source": [
    "df_nodes = pd.DataFrame({\"HGNC\":pd.unique(pd.concat([df_not_wang.non_complex['HGNC_a'],df_not_wang.non_complex['HGNC_b']]))})\n",
    "df_nodes['DEG'] = [x in DEGs for x in df_nodes['HGNC']]\n",
    "print(df_nodes.shape)\n",
    "df_nodes.sort_values('HGNC')"
   ]
  },
  {
   "cell_type": "code",
   "execution_count": null,
   "id": "1039268a",
   "metadata": {},
   "outputs": [],
   "source": [
    "collections.Counter(df_nodes['DEG'])"
   ]
  },
  {
   "cell_type": "markdown",
   "id": "273a2b76",
   "metadata": {},
   "source": [
    "# Remove undirected interactions if directed exist"
   ]
  },
  {
   "cell_type": "code",
   "execution_count": null,
   "id": "c4020883",
   "metadata": {},
   "outputs": [],
   "source": [
    "def remove_undirected_interactions(interaction_id):\n",
    "    a=interaction_id.split(\"_\")\n",
    "    possibilities = pd.Series([\"_\".join([a[0],a[1], \"1\"]),\n",
    "                    \"_\".join([a[0],a[1], \"-1\"]),\n",
    "                    \"_\".join([a[1],a[0], \"1\"]),\n",
    "                    \"_\".join([a[1],a[0], \"-1\"])])\n",
    "    \n",
    "    return any(possibilities.isin(df_not_wang.non_complex['interaction_id']))"
   ]
  },
  {
   "cell_type": "code",
   "execution_count": null,
   "id": "8f442b0d",
   "metadata": {},
   "outputs": [],
   "source": [
    "undirected_interactions = df_not_wang.non_complex[df_not_wang.non_complex['effect']==0]['interaction_id']"
   ]
  },
  {
   "cell_type": "code",
   "execution_count": null,
   "id": "a1ff1e58",
   "metadata": {},
   "outputs": [],
   "source": [
    "undirected_interactions"
   ]
  },
  {
   "cell_type": "code",
   "execution_count": null,
   "id": "6dc6cdff",
   "metadata": {},
   "outputs": [],
   "source": [
    "df_not_wang.undirected_filtered = df_not_wang.non_complex[~df_not_wang.non_complex['interaction_id'].isin(undirected_interactions[undirected_interactions.apply(remove_undirected_interactions)])]"
   ]
  },
  {
   "cell_type": "code",
   "execution_count": null,
   "id": "735631b7",
   "metadata": {},
   "outputs": [],
   "source": [
    "df_not_wang.undirected_filtered.shape"
   ]
  },
  {
   "cell_type": "markdown",
   "id": "baa56e4b",
   "metadata": {},
   "source": [
    "## Nodes after filter"
   ]
  },
  {
   "cell_type": "code",
   "execution_count": null,
   "id": "4abb6187",
   "metadata": {},
   "outputs": [],
   "source": [
    "df_nodes.undirected_filtered = pd.DataFrame({\"HGNC\":pd.unique(pd.concat([df_not_wang.undirected_filtered['HGNC_a'],df_not_wang.undirected_filtered['HGNC_b']]))})\n",
    "df_nodes.undirected_filtered['DEG'] = [x in DEGs for x in df_nodes.undirected_filtered['HGNC']]\n",
    "print(df_nodes.undirected_filtered.shape)\n",
    "df_nodes.undirected_filtered.sort_values('HGNC')"
   ]
  },
  {
   "cell_type": "code",
   "execution_count": null,
   "id": "5ff2b59d",
   "metadata": {},
   "outputs": [],
   "source": [
    "collections.Counter(df_nodes.undirected_filtered['DEG'])"
   ]
  },
  {
   "cell_type": "markdown",
   "id": "2d9b0792",
   "metadata": {},
   "source": [
    "# Remove intermediates with degree 1 \n",
    "### -> not making any connection with 2 DEGs"
   ]
  },
  {
   "cell_type": "code",
   "execution_count": null,
   "id": "87dd90f7",
   "metadata": {},
   "outputs": [],
   "source": [
    "import networkx as nx\n",
    "\n",
    "df_not_wang.undirected_filtered.G = nx.from_pandas_edgelist(df_not_wang.undirected_filtered, \n",
    "                                                             source = \"HGNC_a\", \n",
    "                                                             target = 'HGNC_b')"
   ]
  },
  {
   "cell_type": "code",
   "execution_count": null,
   "id": "9a1f0022",
   "metadata": {},
   "outputs": [],
   "source": [
    "nodes_degree = pd.DataFrame(df_not_wang.undirected_filtered.G.degree(), columns=['HGNC', 'Degree'])\n",
    "df_nodes.undirected_filtered = df_nodes.undirected_filtered.merge(nodes_degree, on=\"HGNC\")\n",
    "print(df_nodes.undirected_filtered.shape)\n",
    "df_nodes.undirected_filtered.sort_values('HGNC')"
   ]
  },
  {
   "cell_type": "code",
   "execution_count": null,
   "id": "00829b7b",
   "metadata": {},
   "outputs": [],
   "source": [
    "df_nodes.filtered = df_nodes.undirected_filtered[df_nodes.undirected_filtered['Degree']>1 | df_nodes.undirected_filtered['DEG']]\n",
    "print(df_nodes.filtered.shape)\n",
    "df_nodes.filtered.sort_values('HGNC')"
   ]
  },
  {
   "cell_type": "code",
   "execution_count": null,
   "id": "94c0ec16",
   "metadata": {},
   "outputs": [],
   "source": [
    "df_not_wang.undirected_filtered['HGNC_a'].isin(df_nodes.filtered['HGNC'])"
   ]
  },
  {
   "cell_type": "code",
   "execution_count": null,
   "id": "df6f435b",
   "metadata": {},
   "outputs": [],
   "source": [
    "df_not_wang.undirected_filtered[(df_not_wang.undirected_filtered['HGNC_a'].isin(df_nodes.filtered['HGNC'])) &\n",
    "                               (df_not_wang.undirected_filtered['HGNC_b'].isin(df_nodes.filtered['HGNC']))]"
   ]
  },
  {
   "cell_type": "code",
   "execution_count": null,
   "id": "38bbde36",
   "metadata": {},
   "outputs": [],
   "source": [
    "def keep_interactions_list_nodes(interactions_df, nodes_df):\n",
    "    \n",
    "    condition_1 = interactions_df['HGNC_a'].isin(nodes_df['HGNC'])\n",
    "    condition_2 = interactions_df['HGNC_b'].isin(nodes_df['HGNC'])\n",
    "\n",
    "    return interactions_df[(condition_1) &\n",
    "                               (condition_2)]"
   ]
  },
  {
   "cell_type": "code",
   "execution_count": null,
   "id": "0a37e990",
   "metadata": {},
   "outputs": [],
   "source": [
    "df_not_wang.filtered = keep_interactions_list_nodes(df_not_wang.undirected_filtered, df_nodes.filtered)\n",
    "df_not_wang.filtered"
   ]
  },
  {
   "cell_type": "markdown",
   "id": "264b5d01",
   "metadata": {},
   "source": [
    "# Remove not connecting intermediate"
   ]
  },
  {
   "cell_type": "code",
   "execution_count": null,
   "id": "3b990a9c",
   "metadata": {},
   "outputs": [],
   "source": [
    "df_not_wang.filtered.G = nx.from_pandas_edgelist(df_not_wang.filtered, \n",
    "                                                             source = \"HGNC_a\", \n",
    "                                                             target = 'HGNC_b')"
   ]
  },
  {
   "cell_type": "code",
   "execution_count": null,
   "id": "d088f41f",
   "metadata": {},
   "outputs": [],
   "source": [
    "spl = dict(nx.all_pairs_shortest_path_length(df_not_wang.filtered.G))"
   ]
  },
  {
   "cell_type": "code",
   "execution_count": null,
   "id": "508b4ae7",
   "metadata": {},
   "outputs": [],
   "source": [
    "def intermediates_not_connecting(HGNC):\n",
    "    \n",
    "    if HGNC in DEGs:\n",
    "        return True\n",
    "    else: \n",
    "        distances_to_DEGs = list({k: spl[HGNC][k] for k in spl[HGNC].keys() & DEGs}.values())\n",
    "        nb_DEGs_less_than_2 = sum([int(x<=2) for x in distances_to_DEGs])\n",
    "        if nb_DEGs_less_than_2>=2:\n",
    "            return True\n",
    "        else:\n",
    "            return False"
   ]
  },
  {
   "cell_type": "code",
   "execution_count": null,
   "id": "b9234387",
   "metadata": {},
   "outputs": [],
   "source": [
    "df_nodes.filtered['not_connecting_intermediate'] = df_nodes.filtered['HGNC'].apply(intermediates_not_connecting)"
   ]
  },
  {
   "cell_type": "code",
   "execution_count": null,
   "id": "826ea79e",
   "metadata": {},
   "outputs": [],
   "source": [
    "collections.Counter(df_nodes.filtered['not_connecting_intermediate'])"
   ]
  },
  {
   "cell_type": "code",
   "execution_count": null,
   "id": "87577188",
   "metadata": {},
   "outputs": [],
   "source": [
    "df_nodes_intermediates_filtered = df_nodes.filtered[df_nodes.filtered[\"not_connecting_intermediate\"]]\n",
    "print(df_nodes_intermediates_filtered.shape)\n",
    "df_nodes_intermediates_filtered.sort_values('HGNC')"
   ]
  },
  {
   "cell_type": "code",
   "execution_count": null,
   "id": "c9e06d7c",
   "metadata": {},
   "outputs": [],
   "source": [
    "collections.Counter(df_nodes_intermediates_filtered['DEG'])"
   ]
  },
  {
   "cell_type": "code",
   "execution_count": null,
   "id": "8debf687",
   "metadata": {},
   "outputs": [],
   "source": [
    "df_not_wang_intermediates_filtered = keep_interactions_list_nodes(df_not_wang.filtered, df_nodes_intermediates_filtered)\n",
    "df_not_wang_intermediates_filtered.shape"
   ]
  },
  {
   "cell_type": "code",
   "execution_count": null,
   "id": "6c9a8d44",
   "metadata": {},
   "outputs": [],
   "source": [
    "df_not_wang_intermediates_filtered.to_csv('/Users/matthieu/ownCloud/Thèse/Systems Biology/Transcriptomic studies/deg_comparison/common_deg_in_3_studies_filtered_distance_3_network_interactions_corrected_2023_07_04.csv', index=False)"
   ]
  },
  {
   "cell_type": "code",
   "execution_count": null,
   "id": "833042af",
   "metadata": {},
   "outputs": [],
   "source": [
    "df_nodes_intermediates_filtered.to_csv('/Users/matthieu/ownCloud/Thèse/Systems Biology/Transcriptomic studies/deg_comparison/common_deg_in_3_studies_filtered_distance_3_network_nodes_corrected_2023_07_04.csv', index=False)"
   ]
  },
  {
   "cell_type": "markdown",
   "id": "2419efa8",
   "metadata": {},
   "source": [
    "# Rest of the tutorial"
   ]
  },
  {
   "cell_type": "code",
   "execution_count": null,
   "id": "fe93d9c2",
   "metadata": {},
   "outputs": [],
   "source": [
    "# and now let's export our network to a bnet file in order to use it with MaBoSS and friends\n",
    "\n",
    "new_net.write_bnet()"
   ]
  },
  {
   "cell_type": "code",
   "execution_count": null,
   "id": "ac0fa2b4",
   "metadata": {},
   "outputs": [],
   "source": [
    "#let's check the new net\n",
    "\n",
    "new_net.generate_graph()\n",
    "new_net.print_graph()"
   ]
  },
  {
   "cell_type": "code",
   "execution_count": null,
   "id": "4c94e99a",
   "metadata": {},
   "outputs": [],
   "source": [
    "def get_code_from_mapping(gene_list):\n",
    "    gene_dict = {}\n",
    "    for gene in gene_list:\n",
    "        gene_dict[gene] = list(mapping.map_name(gene, 'uniprot', 'genesymbol'))[0]\n",
    "    return gene_dict"
   ]
  },
  {
   "cell_type": "code",
   "execution_count": null,
   "id": "4b918b6a",
   "metadata": {},
   "outputs": [],
   "source": [
    "list(get_code_from_mapping(df['id_a']).values())"
   ]
  },
  {
   "cell_type": "code",
   "execution_count": null,
   "id": "9df5687a",
   "metadata": {},
   "outputs": [],
   "source": [
    "HGNC_to_Uniprot"
   ]
  },
  {
   "cell_type": "code",
   "execution_count": null,
   "id": "b6814b9e",
   "metadata": {},
   "outputs": [],
   "source": [
    "from pypath.utils import mapping\n",
    "\n",
    "uniprot = [list(mapping.map_name(gene, 'genesymbol', 'uniprot'))[0] for gene in DEGs]\n",
    "HGNC_to_Uniprot = pd.DataFrame({'HGNC': DEGs,\n",
    "                            'Uniprot': uniprot})"
   ]
  },
  {
   "cell_type": "code",
   "execution_count": null,
   "id": "b3342538",
   "metadata": {},
   "outputs": [],
   "source": [
    "for gene in final_DEGs:\n",
    "    # print(gene)\n",
    "    uniprots = list(mapping.map_name(gene, 'genesymbol', 'uniprot'))\n",
    "    # print(uniprot)\n",
    "    genesymbol = list(mapping.map_name(uniprot[0], 'uniprot', 'genesymbol'))\n",
    "    # print(uniprot, genesymbol)"
   ]
  }
 ],
 "metadata": {
  "kernelspec": {
   "display_name": "Python 3 (ipykernel)",
   "language": "python",
   "name": "python3"
  },
  "language_info": {
   "codemirror_mode": {
    "name": "ipython",
    "version": 3
   },
   "file_extension": ".py",
   "mimetype": "text/x-python",
   "name": "python",
   "nbconvert_exporter": "python",
   "pygments_lexer": "ipython3",
   "version": "3.11.3"
  }
 },
 "nbformat": 4,
 "nbformat_minor": 5
}
